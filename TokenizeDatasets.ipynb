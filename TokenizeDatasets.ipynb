{
 "cells": [
  {
   "cell_type": "markdown",
   "metadata": {},
   "source": [
    "# Cleaning the data\n",
    "## Using Spacy and pandas\n",
    "\n",
    "The dataset was cleaned and tokenized using spaCy, a natual language processing python package.  The tweets are tokenized by individual word, parts of speech tagging, and dependency parsing.  The final features used, in all instances, are the lemmatized tokens."
   ]
  },
  {
   "cell_type": "code",
   "execution_count": null,
   "metadata": {},
   "outputs": [],
   "source": [
    "import pandas as pd\n",
    "import spacy\n",
    "\n",
    "# will need to run this in terminal first: python -m spacy download en\n",
    "\n",
    "nlp = spacy.load('en', disable=['ner'])"
   ]
  },
  {
   "cell_type": "code",
   "execution_count": null,
   "metadata": {},
   "outputs": [],
   "source": [
    "df = pd.read_csv(\"tweets.csv\")\n",
    "tokens = []\n",
    "lemma = []\n",
    "pos = []\n",
    "dep = []\n",
    "\n",
    "for doc in nlp.pipe(df['text'].astype('unicode').values, batch_size=205000,\n",
    "                        n_threads=4):\n",
    "    if doc.is_parsed:\n",
    "        tokens.append([n.text for n in doc])\n",
    "        lemma.append([n.lemma_ for n in doc])\n",
    "        pos.append([n.pos_ for n in doc])\n",
    "        dep.append([n.dep_ for n in doc])\n",
    "    else:\n",
    "        # We want to make sure that the lists of parsed results have the\n",
    "        # same number of entries of the original Dataframe, so add some blanks in case the parse fails\n",
    "        tokens.append(None)\n",
    "        lemma.append(None)\n",
    "        pos.append(None)\n",
    "        dep.append(None)\n",
    "\n",
    "df['text_tokens'] = tokens\n",
    "df['text_lemma'] = lemma\n",
    "df['text_pos'] = pos\n",
    "df['text_dep'] = dep\n",
    "\n",
    "df.to_csv('tweets_parsed.csv')"
   ]
  },
  {
   "cell_type": "code",
   "execution_count": null,
   "metadata": {},
   "outputs": [],
   "source": [
    "df = pd.read_csv(\"train.csv\", index_col=False, encoding='latin-1', header=0)\n",
    "tokens = []\n",
    "lemma = []\n",
    "pos = []\n",
    "dep = []\n",
    "\n",
    "for doc in nlp.pipe(df['SentimentText'].astype('unicode').values, batch_size=500,\n",
    "                        n_threads=4):\n",
    "    if doc.is_parsed:\n",
    "        tokens.append([n.text for n in doc])\n",
    "        lemma.append([n.lemma_ for n in doc])\n",
    "        pos.append([n.pos_ for n in doc])\n",
    "        dep.append([n.dep_ for n in doc])\n",
    "    else:\n",
    "        # We want to make sure that the lists of parsed results have the\n",
    "        # same number of entries of the original Dataframe, so add some blanks in case the parse fails\n",
    "        tokens.append(None)\n",
    "        lemma.append(None)\n",
    "        pos.append(None)\n",
    "        dep.append(None)\n",
    "\n",
    "df['text_tokens'] = tokens\n",
    "df['text_lemma'] = lemma\n",
    "df['text_pos'] = pos\n",
    "df['text_dep'] = dep\n",
    "\n",
    "df.to_csv('training_parsed.csv')"
   ]
  }
 ],
 "metadata": {
  "kernelspec": {
   "display_name": "Python [conda env:py36]",
   "language": "python",
   "name": "conda-env-py36-py"
  },
  "language_info": {
   "codemirror_mode": {
    "name": "ipython",
    "version": 3
   },
   "file_extension": ".py",
   "mimetype": "text/x-python",
   "name": "python",
   "nbconvert_exporter": "python",
   "pygments_lexer": "ipython3",
   "version": "3.6.4"
  }
 },
 "nbformat": 4,
 "nbformat_minor": 2
}
