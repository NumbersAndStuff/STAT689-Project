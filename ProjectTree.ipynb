{
 "cells": [
  {
   "cell_type": "code",
   "execution_count": 160,
   "metadata": {
    "collapsed": true
   },
   "outputs": [],
   "source": [
    "%matplotlib inline\n",
    "import matplotlib.pyplot as plt\n",
    "import numpy as np\n",
    "import pandas as pd\n",
    "import spacy\n",
    "from __future__ import unicode_literals\n",
    "import ast # this is just use to evaluate the lemmas\n",
    "import time\n",
    "from sklearn.tree import DecisionTreeClassifier\n",
    "from sklearn.feature_extraction.text import TfidfVectorizer\n",
    "from sklearn.metrics import classification_report, accuracy_score"
   ]
  },
  {
   "cell_type": "code",
   "execution_count": 5,
   "metadata": {},
   "outputs": [],
   "source": [
    "nlp = spacy.load('en', disable=['ner'])\n"
    "\n",
    "\n",
        "    "
   ]
  },
  {
   "cell_type": "code",
   "execution_count": 3,
   "metadata": {},
   "outputs": [
    {
     "data": {
      "text/plain": [
       "RangeIndex(start=0, stop=203482, step=1)"
      ]
     },
     "execution_count": 3,
     "metadata": {},
     "output_type": "execute_result"
    }
   ],
   "source": [
    "df = pd.read_csv(\"tweets.csv\")\n",
    "df.index"
   ]
  },
  {
   "cell_type": "code",
   "execution_count": 6,
   "metadata": {},
   "outputs": [],
   "source": [
    "# This cell takes awhile to run.  As such, the results were saved in a new \n",
    "# .csv all cells below are self-contained without the first three cells\n",
    "\n",
    "df = pd.read_csv(\"tweets.csv\")\n",
    "tokens = []\n",
    "lemma = []\n",
    "pos = []\n",
    "dep = []\n",
    "\n",
    "for doc in nlp.pipe(df['text'].astype('unicode').values, batch_size=205000,\n",
    "                        n_threads=4):\n",
    "    if doc.is_parsed:\n",
    "        tokens.append([n.text for n in doc])\n",
    "        lemma.append([n.lemma_ for n in doc])\n",
    "        pos.append([n.pos_ for n in doc])\n",
    "        dep.append([n.dep_ for n in doc])\n",
    "    else:\n",
    "        # We want to make sure that the lists of parsed results have the\n",
    "        # same number of entries of the original Dataframe, so add some blanks in case the parse fails\n",
    "        tokens.append(None)\n",
    "        lemma.append(None)\n",
    "        pos.append(None)\n",
    "        dep.append(None)\n",
    "\n",
    "df['text_tokens'] = tokens\n",
    "df['text_lemma'] = lemma\n",
    "df['text_pos'] = pos\n",
    "df['text_dep'] = dep\n",
    "\n",
    "df.to_csv('tweets_parsed.csv')"
   ]
  },
  {
   "cell_type": "code",
   "execution_count": 139,
   "metadata": {},
   "outputs": [],
   "source": [
    "tweets = pd.read_csv(\"tweets_parsed.csv\", low_memory=False, index_col=0, dtype='object')\n"
   ]
  },
  {
   "cell_type": "code",
   "execution_count": 140,
   "metadata": {},
   "outputs": [],
   "source": [
    "\n",
    "tweets['tokens'] = tweets['text_tokens'].apply(ast.literal_eval)\n",
    "tweets['lemma'] = tweets['text_lemma'].apply(ast.literal_eval)\n",
    "tweets['pos'] = tweets['text_pos'].apply(ast.literal_eval)\n",
    "tweets['dep'] = tweets['text_dep'].apply(ast.literal_eval)"
   ]
  },
  {
   "cell_type": "code",
   "execution_count": 45,
   "metadata": {},
   "outputs": [],
   "source": [
    "h_names = ['target', 'ids', 'date', 'query_flag', 'user', 'text']\n",
    "df = pd.read_csv(\"train.csv\", index_col=False, encoding='latin-1', header=0)"
   ]
  },
  {
   "cell_type": "code",
   "execution_count": 47,
   "metadata": {},
   "outputs": [],
   "source": [
    "tokens = []\n",
    "lemma = []\n",
    "pos = []\n",
    "dep = []\n",
    "\n",
    "for doc in nlp.pipe(df['SentimentText'].astype('unicode').values, batch_size=500,\n",
    "                        n_threads=4):\n",
    "    if doc.is_parsed:\n",
    "        tokens.append([n.text for n in doc])\n",
    "        lemma.append([n.lemma_ for n in doc])\n",
    "        pos.append([n.pos_ for n in doc])\n",
    "        dep.append([n.dep_ for n in doc])\n",
    "    else:\n",
    "        # We want to make sure that the lists of parsed results have the\n",
    "        # same number of entries of the original Dataframe, so add some blanks in case the parse fails\n",
    "        tokens.append(None)\n",
    "        lemma.append(None)\n",
    "        pos.append(None)\n",
    "        dep.append(None)\n",
    "\n",
    "df['text_tokens'] = tokens\n",
    "df['text_lemma'] = lemma\n",
    "df['text_pos'] = pos\n",
    "df['text_dep'] = dep\n",
    "\n",
    "df.to_csv('training_parsed.csv')"
   ]
  },
  {
   "cell_type": "code",
   "execution_count": 7,
   "metadata": {},
   "outputs": [],
   "source": [
    "ts = pd.read_csv(\"training_parsed.csv\", low_memory=False, index_col=0, dtype='object')\n",
    "\n",
    "ts['tokens'] = ts['text_tokens'].apply(ast.literal_eval)\n",
    "ts['lemma'] = ts['text_lemma'].apply(ast.literal_eval)\n",
    "ts['pos'] = ts['text_pos'].apply(ast.literal_eval)\n",
    "ts['dep'] = ts['text_dep'].apply(ast.literal_eval)"
   ]
  },
  {
   "cell_type": "code",
   "execution_count": 8,
   "metadata": {},
   "outputs": [],
   "source": [
    "ts_new = ts[:80000]\n",
    "ts_rest = ts[~ts.ItemID.isin(ts_new.ItemID)]"
   ]
  },
  {
   "cell_type": "code",
   "execution_count": 142,
   "metadata": {},
   "outputs": [],
   "source": [
    "vectorizer = TfidfVectorizer()\n",
    "\n",
    "features = vectorizer.fit_transform(ts_new.lemma.astype('unicode'))\n",
    "#print(vectorizer.vocabulary_)\n",
    "smatrix = vectorizer.transform(ts_rest.lemma.astype('unicode'))\n",
    "#print(smatrix)\n",
    "\n",
    "\n",
    "y = ts_new['Sentiment']\n",
    "X = features\n",
    "\n",
    "\n",
    "dt = DecisionTreeClassifier(min_samples_split=20, random_state=99)\n",
    "t0 = time.time()\n",
    "dtf = dt.fit(X,y)"
   ]
  },
  {
   "cell_type": "code",
   "execution_count": 14,
   "metadata": {},
   "outputs": [],
   "source": [
    "t1 = time.time()\n",
    "predict_dt = dt.predict(smatrix)\n",
    "t2 = time.time()\n",
    "print('time to train '+str(t1-t0))\n",
    "print('time to predict '+str(t2-t1))\n",
    "\n",
    "print(classification_report(ts_rest.Sentiment, predict_dt))"
   ]
  },
  {
   "cell_type": "code",
   "execution_count": 155,
   "metadata": {},
   "outputs": [],
   "source": [
    "tweet_matrix = vectorizer.transform(tweets.lemma.astype('unicode'))\n",
    "\n",
    "predict_tweets = dt.predict(tweet_matrix)\n",
    "tweet_prob = dt.predict_proba(tweet_matrix)\n",
    "#tweet_score = dt.score(tweet_matrix,y)"
   ]
  },
  {
   "cell_type": "code",
   "execution_count": 146,
   "metadata": {},
   "outputs": [
    {
     "data": {
      "image/png": "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\n",
      "text/plain": [
       "<matplotlib.figure.Figure at 0x7fa25b053a58>"
      ]
     },
     "metadata": {},
     "output_type": "display_data"
    }
   ],
   "source": [
    "plt.figure(figsize=(10,8))\n",
    "plt.plot(dtf.feature_importances_, 'o')\n",
    "#plt.ylim(0.005,0.051)\n",
    "plt.show()"
   ]
  },
  {
   "cell_type": "code",
   "execution_count": 123,
   "metadata": {},
   "outputs": [],
   "source": [
    "b = dtf.feature_importances_.tolist()\n",
    "out = pd.Series(b)\n",
    "out = pd.DataFrame({'x':out.index, 'y':out.values})"
   ]
  },
  {
   "cell_type": "code",
   "execution_count": 124,
   "metadata": {},
   "outputs": [
    {
     "name": "stdout",
     "output_type": "stream",
     "text": [
      "           x         y\n",
      "28016  28016  0.014524\n",
      "38684  38684  0.010319\n",
      "62481  62481  0.019907\n",
      "64705  64705  0.013667\n",
      "64899  64899  0.049322\n",
      "68637  68637  0.019295\n",
      "71418  71418  0.018144\n",
      "74224  74224  0.016069\n",
      "76912  76912  0.024792\n",
      "77759  77759  0.010187\n"
     ]
    }
   ],
   "source": [
    "out_cut = out[out.y>=.01]\n",
    "out_cut.reset_index()\n",
    "print(out_cut)"
   ]
  },
  {
   "cell_type": "code",
   "execution_count": 130,
   "metadata": {},
   "outputs": [],
   "source": [
    "maps = {value: key for key, value in vectorizer.vocabulary_.items()}"
   ]
  },
  {
   "cell_type": "code",
   "execution_count": 131,
   "metadata": {},
   "outputs": [],
   "source": [
    "def get(key, d=maps, default=None):\n",
    "    \n",
    "    if key in d:\n",
    "        return d[key]\n",
    "    else:\n",
    "        return default\n",
    "\n",
    "\n",
    "abc = out_cut.x.apply(get)"
   ]
  },
  {
   "cell_type": "code",
   "execution_count": 132,
   "metadata": {},
   "outputs": [],
   "source": [
    "abc = pd.DataFrame({'key':abc.index,'vocab':abc.values},index=out_cut.index)\n",
    "abc['weight'] = out_cut.y.values"
   ]
  },
  {
   "cell_type": "code",
   "execution_count": 133,
   "metadata": {},
   "outputs": [
    {
     "name": "stdout",
     "output_type": "stream",
     "text": [
      "         key  vocab    weight\n",
      "28016  28016     be  0.014524\n",
      "38684  38684    but  0.010319\n",
      "62481  62481   miss  0.019907\n",
      "64705  64705     no  0.013667\n",
      "64899  64899    not  0.049322\n",
      "68637  68637   pron  0.019295\n",
      "71418  71418    sad  0.018144\n",
      "74224  74224  sorry  0.016069\n",
      "76912  76912  thank  0.024792\n",
      "77759  77759     to  0.010187\n"
     ]
    }
   ],
   "source": [
    "print(abc)"
   ]
  },
  {
   "cell_type": "code",
   "execution_count": 158,
   "metadata": {},
   "outputs": [],
   "source": [
    "from sklearn.ensemble import RandomForestClassifier"
   ]
  },
  {
   "cell_type": "code",
   "execution_count": 159,
   "metadata": {},
   "outputs": [
    {
     "data": {
      "text/plain": [
       "RandomForestClassifier(bootstrap=True, class_weight=None, criterion='gini',\n",
       "            max_depth=None, max_features='auto', max_leaf_nodes=None,\n",
       "            min_impurity_decrease=0.0, min_impurity_split=None,\n",
       "            min_samples_leaf=1, min_samples_split=2,\n",
       "            min_weight_fraction_leaf=0.0, n_estimators=100, n_jobs=1,\n",
       "            oob_score=True, random_state=123456, verbose=0,\n",
       "            warm_start=False)"
      ]
     },
     "execution_count": 159,
     "metadata": {},
     "output_type": "execute_result"
    }
   ],
   "source": [
    "rf = RandomForestClassifier(n_estimators=100, oob_score=True, random_state=123456)\n",
    "rf.fit(X,y)"
   ]
  },
  {
   "cell_type": "code",
   "execution_count": 161,
   "metadata": {},
   "outputs": [
    {
     "ename": "ValueError",
     "evalue": "Found input variables with inconsistent numbers of samples: [80000, 19989]",
     "output_type": "error",
     "traceback": [
      "\u001b[0;31m---------------------------------------------------------------------------\u001b[0m",
      "\u001b[0;31mValueError\u001b[0m                                Traceback (most recent call last)",
      "\u001b[0;32m<ipython-input-161-b86349a7c841>\u001b[0m in \u001b[0;36m<module>\u001b[0;34m()\u001b[0m\n\u001b[1;32m      1\u001b[0m \u001b[0mrf_predict\u001b[0m \u001b[0;34m=\u001b[0m \u001b[0mrf\u001b[0m\u001b[0;34m.\u001b[0m\u001b[0mpredict\u001b[0m\u001b[0;34m(\u001b[0m\u001b[0msmatrix\u001b[0m\u001b[0;34m)\u001b[0m\u001b[0;34m\u001b[0m\u001b[0m\n\u001b[0;32m----> 2\u001b[0;31m \u001b[0maccuracy\u001b[0m \u001b[0;34m=\u001b[0m \u001b[0maccuracy_score\u001b[0m\u001b[0;34m(\u001b[0m\u001b[0my\u001b[0m\u001b[0;34m,\u001b[0m\u001b[0mrf_predict\u001b[0m\u001b[0;34m)\u001b[0m\u001b[0;34m\u001b[0m\u001b[0m\n\u001b[0m\u001b[1;32m      3\u001b[0m \u001b[0;34m\u001b[0m\u001b[0m\n\u001b[1;32m      4\u001b[0m \u001b[0mprint\u001b[0m\u001b[0;34m(\u001b[0m\u001b[0mclassification_report\u001b[0m\u001b[0;34m(\u001b[0m\u001b[0mts_rest\u001b[0m\u001b[0;34m.\u001b[0m\u001b[0mSentiment\u001b[0m\u001b[0;34m,\u001b[0m \u001b[0mpredict_dt\u001b[0m\u001b[0;34m)\u001b[0m\u001b[0;34m)\u001b[0m\u001b[0;34m\u001b[0m\u001b[0m\n\u001b[1;32m      5\u001b[0m \u001b[0mprint\u001b[0m\u001b[0;34m(\u001b[0m\u001b[0;34mf'Out-of-bag score estimate: {rf.oob_score_:.3}'\u001b[0m\u001b[0;34m)\u001b[0m\u001b[0;34m\u001b[0m\u001b[0m\n",
      "\u001b[0;32m~/anaconda3/envs/py36/lib/python3.6/site-packages/sklearn/metrics/classification.py\u001b[0m in \u001b[0;36maccuracy_score\u001b[0;34m(y_true, y_pred, normalize, sample_weight)\u001b[0m\n\u001b[1;32m    174\u001b[0m \u001b[0;34m\u001b[0m\u001b[0m\n\u001b[1;32m    175\u001b[0m     \u001b[0;31m# Compute accuracy for each possible representation\u001b[0m\u001b[0;34m\u001b[0m\u001b[0;34m\u001b[0m\u001b[0m\n\u001b[0;32m--> 176\u001b[0;31m     \u001b[0my_type\u001b[0m\u001b[0;34m,\u001b[0m \u001b[0my_true\u001b[0m\u001b[0;34m,\u001b[0m \u001b[0my_pred\u001b[0m \u001b[0;34m=\u001b[0m \u001b[0m_check_targets\u001b[0m\u001b[0;34m(\u001b[0m\u001b[0my_true\u001b[0m\u001b[0;34m,\u001b[0m \u001b[0my_pred\u001b[0m\u001b[0;34m)\u001b[0m\u001b[0;34m\u001b[0m\u001b[0m\n\u001b[0m\u001b[1;32m    177\u001b[0m     \u001b[0;32mif\u001b[0m \u001b[0my_type\u001b[0m\u001b[0;34m.\u001b[0m\u001b[0mstartswith\u001b[0m\u001b[0;34m(\u001b[0m\u001b[0;34m'multilabel'\u001b[0m\u001b[0;34m)\u001b[0m\u001b[0;34m:\u001b[0m\u001b[0;34m\u001b[0m\u001b[0m\n\u001b[1;32m    178\u001b[0m         \u001b[0mdiffering_labels\u001b[0m \u001b[0;34m=\u001b[0m \u001b[0mcount_nonzero\u001b[0m\u001b[0;34m(\u001b[0m\u001b[0my_true\u001b[0m \u001b[0;34m-\u001b[0m \u001b[0my_pred\u001b[0m\u001b[0;34m,\u001b[0m \u001b[0maxis\u001b[0m\u001b[0;34m=\u001b[0m\u001b[0;36m1\u001b[0m\u001b[0;34m)\u001b[0m\u001b[0;34m\u001b[0m\u001b[0m\n",
      "\u001b[0;32m~/anaconda3/envs/py36/lib/python3.6/site-packages/sklearn/metrics/classification.py\u001b[0m in \u001b[0;36m_check_targets\u001b[0;34m(y_true, y_pred)\u001b[0m\n\u001b[1;32m     69\u001b[0m     \u001b[0my_pred\u001b[0m \u001b[0;34m:\u001b[0m \u001b[0marray\u001b[0m \u001b[0;32mor\u001b[0m \u001b[0mindicator\u001b[0m \u001b[0mmatrix\u001b[0m\u001b[0;34m\u001b[0m\u001b[0m\n\u001b[1;32m     70\u001b[0m     \"\"\"\n\u001b[0;32m---> 71\u001b[0;31m     \u001b[0mcheck_consistent_length\u001b[0m\u001b[0;34m(\u001b[0m\u001b[0my_true\u001b[0m\u001b[0;34m,\u001b[0m \u001b[0my_pred\u001b[0m\u001b[0;34m)\u001b[0m\u001b[0;34m\u001b[0m\u001b[0m\n\u001b[0m\u001b[1;32m     72\u001b[0m     \u001b[0mtype_true\u001b[0m \u001b[0;34m=\u001b[0m \u001b[0mtype_of_target\u001b[0m\u001b[0;34m(\u001b[0m\u001b[0my_true\u001b[0m\u001b[0;34m)\u001b[0m\u001b[0;34m\u001b[0m\u001b[0m\n\u001b[1;32m     73\u001b[0m     \u001b[0mtype_pred\u001b[0m \u001b[0;34m=\u001b[0m \u001b[0mtype_of_target\u001b[0m\u001b[0;34m(\u001b[0m\u001b[0my_pred\u001b[0m\u001b[0;34m)\u001b[0m\u001b[0;34m\u001b[0m\u001b[0m\n",
      "\u001b[0;32m~/anaconda3/envs/py36/lib/python3.6/site-packages/sklearn/utils/validation.py\u001b[0m in \u001b[0;36mcheck_consistent_length\u001b[0;34m(*arrays)\u001b[0m\n\u001b[1;32m    202\u001b[0m     \u001b[0;32mif\u001b[0m \u001b[0mlen\u001b[0m\u001b[0;34m(\u001b[0m\u001b[0muniques\u001b[0m\u001b[0;34m)\u001b[0m \u001b[0;34m>\u001b[0m \u001b[0;36m1\u001b[0m\u001b[0;34m:\u001b[0m\u001b[0;34m\u001b[0m\u001b[0m\n\u001b[1;32m    203\u001b[0m         raise ValueError(\"Found input variables with inconsistent numbers of\"\n\u001b[0;32m--> 204\u001b[0;31m                          \" samples: %r\" % [int(l) for l in lengths])\n\u001b[0m\u001b[1;32m    205\u001b[0m \u001b[0;34m\u001b[0m\u001b[0m\n\u001b[1;32m    206\u001b[0m \u001b[0;34m\u001b[0m\u001b[0m\n",
      "\u001b[0;31mValueError\u001b[0m: Found input variables with inconsistent numbers of samples: [80000, 19989]"
     ]
    }
   ],
   "source": [
    "rf_predict = rf.predict(smatrix)\n",
    "accuracy = accuracy_score(y,rf_predict)\n",
    "\n",
    "print(classification_report(ts_rest.Sentiment, predict_dt))\n",
    "print(f'Out-of-bag score estimate: {rf.oob_score_:.3}')\n",
    "print(f'Mean accuracy score: {accuracy:.3}')"
   ]
  },
  {
   "cell_type": "code",
   "execution_count": null,
   "metadata": {},
   "outputs": [],
   "source": [
    "rf_predict = rf.predict(smatrix)\n",
    "accuracy = accuracy_score\n",
    "print(classification_report(ts_rest.Sentiment, predict_dt))"
   ]
  }
 ],
 "metadata": {
  "kernelspec": {
   "display_name": "Python [default]",
   "language": "python",
   "name": "python3"
  },
  "language_info": {
   "codemirror_mode": {
    "name": "ipython",
    "version": 3
   },
   "file_extension": ".py",
   "mimetype": "text/x-python",
   "name": "python",
   "nbconvert_exporter": "python",
   "pygments_lexer": "ipython3",
   "version": "3.5.4"
  }
 },
 "nbformat": 4,
 "nbformat_minor": 2
}
