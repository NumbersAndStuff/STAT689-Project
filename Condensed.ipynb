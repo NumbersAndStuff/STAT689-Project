{
 "cells": [
  {
   "cell_type": "code",
   "execution_count": 1,
   "metadata": {},
   "outputs": [],
   "source": [
    "%matplotlib inline\n",
    "import matplotlib.pyplot as plt\n",
    "import numpy as np\n",
    "import pandas as pd\n",
    "import spacy\n",
    "from __future__ import unicode_literals\n",
    "import ast # this is just use to evaluate the lemmas\n",
    "import time\n",
    "from sklearn.tree import DecisionTreeClassifier\n",
    "from sklearn.feature_extraction.text import TfidfVectorizer\n",
    "from sklearn.metrics import classification_report"
   ]
  },
  {
   "cell_type": "code",
   "execution_count": 2,
   "metadata": {},
   "outputs": [
    {
     "data": {
      "text/plain": [
       "Index(['ItemID', 'Sentiment', 'SentimentText'], dtype='object')"
      ]
     },
     "execution_count": 2,
     "metadata": {},
     "output_type": "execute_result"
    }
   ],
   "source": [
    "## Training set found from somewhere (I'll find it in a min) \n",
    "## Classifications are under Sentiment: 0=neg and 1=pos\n",
    "## SetimentText==Tweets\n",
    "\n",
    "training_set = pd.read_csv(\"train.csv\", index_col=False, encoding='latin-1', header=0)\n",
    "training_set.columns"
   ]
  },
  {
   "cell_type": "code",
   "execution_count": null,
   "metadata": {},
   "outputs": [],
   "source": [
    "## Splitting the data for training and testing\n",
    "## This assumes you have tokenized the data and it is included somehow\n",
    "\n",
    "ts_new = training_set[:80000]\n",
    "ts_test = training_set[~training_set.ItemID.isin(ts_new.ItemID)]"
   ]
  },
  {
   "cell_type": "code",
   "execution_count": null,
   "metadata": {},
   "outputs": [],
   "source": [
    "vectorizer = TfidfVectorizer() # vectorizes and normalizes the data\n",
    "\n",
    "features = vectorizer.fit_transform(ts_new.lemma.astype('unicode')) #assumes a sparse matrix, prepares features\n",
    "#print(vectorizer.vocabulary_)\n",
    "smatrix = vectorizer.transform(ts_rest.lemma.astype('unicode')) #puts test data in a form acceptable by the tree\n",
    "#print(smatrix)\n",
    "\n",
    "# these both utilize the training set\n",
    "y = ts_new['Sentiment']\n",
    "X = features"
   ]
  },
  {
   "cell_type": "code",
   "execution_count": null,
   "metadata": {},
   "outputs": [],
   "source": [
    "\n",
    "# Sets up the decision tree\n",
    "dt = DecisionTreeClassifier(min_samples_split=20, random_state=99)\n",
    "t0 = time.time()\n",
    "\n",
    "# Trains the tree\n",
    "dtf = dt.fit(X,y)\n",
    "t1 = time.time()\n",
    "\n",
    "# Testing the trained tree with test data set\n",
    "predict_dt = dtf.predict(smatrix)\n",
    "t2 = time.time()\n",
    "\n",
    "print('time to train '+str(t1-t0))\n",
    "print('time to predict '+str(t2-t1))\n",
    "\n",
    "print(classification_report(ts_rest.Sentiment, predict_dt))"
   ]
  },
  {
   "cell_type": "code",
   "execution_count": null,
   "metadata": {},
   "outputs": [],
   "source": [
    "## Repeating some of the steps above to run the troll tweets through the tree\n",
    "\n",
    "tweet_matrix = vectorizer.transform(tweets.lemma.astype('unicode'))\n",
    "\n",
    "predict_tweets = dt.predict(tweet_matrix)\n",
    "tweet_prob = dt.predict_proba(tweet_matrix)"
   ]
  },
  {
   "cell_type": "code",
   "execution_count": null,
   "metadata": {},
   "outputs": [],
   "source": [
    "## looks at the features of the tree\n",
    "\n",
    "plt.figure(figsize=(10,8))\n",
    "plt.plot(dtf.feature_importances_, 'o')\n",
    "#plt.ylim(0.005,0.051)\n",
    "plt.show()"
   ]
  },
  {
   "cell_type": "code",
   "execution_count": null,
   "metadata": {},
   "outputs": [],
   "source": [
    "## This is just looking at the feature importance and mapping it back to the words\n",
    "\n",
    "# putting it back into pandas cuz I know how to work with that\n",
    "b = dtf.feature_importances_.tolist()\n",
    "out = pd.Series(b)\n",
    "out = pd.DataFrame({'x':out.index, 'y':out.values})\n",
    "\n",
    "# looking at the top features\n",
    "out_cut = out[out.y>=.01]\n",
    "print(out_cut)\n",
    "\n",
    "# flips the vocab dict\n",
    "maps = {value: key for key, value in vectorizer.vocabulary_.items()}\n",
    "\n",
    "# pulls out the keywords based on x-index values\n",
    "def get(key, d=maps, default=None):\n",
    "    \n",
    "    if key in d:\n",
    "        return d[key]\n",
    "    else:\n",
    "        return default\n",
    "\n",
    "\n",
    "abc = out_cut.x.apply(get)\n",
    "\n",
    "# putting it together, I don't know why I called it abc...\n",
    "abc = pd.DataFrame({'key':abc.index,'vocab':abc.values},index=out_cut.index)\n",
    "abc['weight'] = out_cut.y.values"
   ]
  }
 ],
 "metadata": {
  "kernelspec": {
   "display_name": "Python [conda env:py36]",
   "language": "python",
   "name": "conda-env-py36-py"
  },
  "language_info": {
   "codemirror_mode": {
    "name": "ipython",
    "version": 3
   },
   "file_extension": ".py",
   "mimetype": "text/x-python",
   "name": "python",
   "nbconvert_exporter": "python",
   "pygments_lexer": "ipython3",
   "version": "3.6.4"
  }
 },
 "nbformat": 4,
 "nbformat_minor": 2
}
